{
 "cells": [
  {
   "cell_type": "markdown",
   "metadata": {
    "id": "Bd4N9Ob4Hvm9"
   },
   "source": [
    "# Jigsaw Unintended Bias in Toxicity Classification\n"
   ]
  },
  {
   "cell_type": "markdown",
   "metadata": {
    "id": "yCs81i1SH0oT"
   },
   "source": [
    "## Download Data From Kaggle"
   ]
  },
  {
   "cell_type": "code",
   "execution_count": null,
   "metadata": {
    "id": "EaKjaS7rN0kP",
    "outputId": "d84f78cc-8766-497a-a19c-26cead85eab3"
   },
   "outputs": [],
   "source": [
    "!pip install google\n",
    "from google.colab import drive\n",
    "drive.mount(\"/content/drive\")"
   ]
  },
  {
   "cell_type": "code",
   "execution_count": null,
   "metadata": {
    "id": "4XENSAtOFy5I"
   },
   "outputs": [],
   "source": [
    "from google.colab import files"
   ]
  },
  {
   "cell_type": "code",
   "execution_count": null,
   "metadata": {
    "id": "DzhWG2F6Fx4t",
    "outputId": "e1f00d11-ccd4-4499-b355-148ee018cee6"
   },
   "outputs": [],
   "source": [
    "files.upload()"
   ]
  },
  {
   "cell_type": "code",
   "execution_count": null,
   "metadata": {
    "id": "SW-E9xhLGIWg",
    "outputId": "bd896719-1c66-458d-e26d-77a3dff6234d"
   },
   "outputs": [],
   "source": [
    "!pip install --upgrade --force-reinstall --no-deps kaggle\n",
    "!mkdir ~/.kaggle\n",
    "!mv kaggle.json ~/.kaggle/\n",
    "!chmod 600 /root/.kaggle/kaggle.json\n",
    "!kaggle competitions download -c jigsaw-unintended-bias-in-toxicity-classification\n",
    "!mkdir data\n",
    "!unzip ./*.zip -d ./data/65"
   ]
  },
  {
   "cell_type": "markdown",
   "metadata": {
    "id": "8UyLk1JUFeQ0"
   },
   "source": [
    "## Libraries"
   ]
  },
  {
   "cell_type": "code",
   "execution_count": null,
   "metadata": {
    "id": "xop6xNMPKlR2",
    "outputId": "7ad3ae48-9214-4571-b43f-6e95ee435b6b",
    "tags": []
   },
   "outputs": [],
   "source": [
    "!pip install contractions"
   ]
  },
  {
   "cell_type": "code",
   "execution_count": null,
   "metadata": {
    "id": "VqYoml-sFdgB",
    "tags": []
   },
   "outputs": [],
   "source": [
    "import pandas as pd\n",
    "from prettytable import PrettyTable\n",
    "import nltk\n",
    "from nltk.corpus import stopwords\n",
    "from tqdm import trange\n",
    "import contractions\n",
    "import re\n",
    "import numpy as np\n",
    "import matplotlib.pyplot as plt\n",
    "import seaborn as sns\n",
    "from wordcloud import WordCloud\n",
    "from tqdm import tqdm\n",
    "\n",
    "import tensorflow as tf\n",
    "from tensorflow.keras.preprocessing.text import Tokenizer\n",
    "from tensorflow.keras.preprocessing import sequence\n"
   ]
  },
  {
   "cell_type": "code",
   "execution_count": null,
   "metadata": {
    "id": "zPNFQ42CRIET",
    "outputId": "23d6da29-2b7b-489f-802c-15a03646a7f5",
    "tags": []
   },
   "outputs": [],
   "source": [
    "nltk.download('stopwords')\n",
    "stopwords_list = stopwords.words(\"english\")\n",
    "pd.set_option(\"display.max_colwidth\", None)"
   ]
  },
  {
   "cell_type": "code",
   "execution_count": null,
   "metadata": {
    "id": "MOJb7-sn4VTg",
    "tags": []
   },
   "outputs": [],
   "source": [
    "EPOCH = 50\n",
    "EMBED_SIZE = 300"
   ]
  },
  {
   "cell_type": "markdown",
   "metadata": {
    "id": "Mv4x_1UMOAC3"
   },
   "source": [
    "## Helper Functions"
   ]
  },
  {
   "cell_type": "code",
   "execution_count": null,
   "metadata": {
    "id": "6HauxokTOBdC"
   },
   "outputs": [],
   "source": [
    "def simplify_comment(comment):\n",
    "    simplified_comment = contractions.fix(comment)\n",
    "    simplified_comment = simplified_comment.replace(\"\\\\n\", ' ')\n",
    "    simplified_comment = simplified_comment.replace(\"\\\\r\", ' ')\n",
    "    simplified_comment = simplified_comment.replace(\"\\\\\", ' ')\n",
    "    simplified_comment = re.sub(\"[^A-Za-z0-9]+\", ' ', simplified_comment)\n",
    "    \n",
    "    # in order to prevent unwanted blanks and\n",
    "    # if a word is one of the stop words.\n",
    "    return ' '.join(word.strip().lower() for word in simplified_comment.split() if not word in stopwords_list)"
   ]
  },
  {
   "cell_type": "markdown",
   "metadata": {
    "id": "BhWS37HyFkp5"
   },
   "source": [
    "## Data Cleansing"
   ]
  },
  {
   "cell_type": "code",
   "execution_count": null,
   "metadata": {
    "id": "NMrZ-CScFtnc",
    "outputId": "f3c4141b-e26d-4942-91c2-96469784efc1"
   },
   "outputs": [],
   "source": [
    "df = pd.read_csv(\"../input/jigsaw-unintended-bias-in-toxicity-classification/train.csv\")\n",
    "df = df.sample(len(df)//10)\n",
    "df_test = pd.read_csv(\"../input/jigsaw-unintended-bias-in-toxicity-classification/test.csv\")\n",
    "df.head(10)"
   ]
  },
  {
   "cell_type": "code",
   "execution_count": null,
   "metadata": {
    "id": "fKCAafViGbuy",
    "outputId": "2284745b-5c31-4403-dfcb-0f2ce0b81684"
   },
   "outputs": [],
   "source": [
    "pt = PrettyTable()\n",
    "pt.field_names = [\"Area\", \"Count\"]\n",
    "pt.add_row([\"Features\", len(df.columns)])\n",
    "pt.add_row([\"Train data rows\", len(df)])\n",
    "pt.add_row([\"Test data rows\", len(df_test)])\n",
    "print(pt)"
   ]
  },
  {
   "cell_type": "code",
   "execution_count": null,
   "metadata": {
    "id": "w0sznLuhIQ1-"
   },
   "outputs": [],
   "source": [
    "most_toxic = df.sort_values(by=[\"target\"]).iloc[-1, :]\n",
    "least_toxic = df.sort_values(by=[\"target\"]).iloc[0, :]"
   ]
  },
  {
   "cell_type": "code",
   "execution_count": null,
   "metadata": {
    "id": "bIEdu0aDIwwJ",
    "outputId": "176d9b55-c2a5-4f03-fffd-b3df585acede"
   },
   "outputs": [],
   "source": [
    "print(f\"Most toxic comment: {most_toxic['comment_text']}\")"
   ]
  },
  {
   "cell_type": "code",
   "execution_count": null,
   "metadata": {
    "id": "uUdYJKVRGq6X",
    "outputId": "6495e8b0-ef42-41d9-c0e1-ca51c908557b"
   },
   "outputs": [],
   "source": [
    "print(f\"Least toxic comment: {least_toxic['comment_text']}\")"
   ]
  },
  {
   "cell_type": "code",
   "execution_count": null,
   "metadata": {
    "id": "JH7O33_CLI6m"
   },
   "outputs": [],
   "source": [
    "df[\"comment_text\"] = df[\"comment_text\"].apply(lambda row: simplify_comment(row))"
   ]
  },
  {
   "cell_type": "code",
   "execution_count": null,
   "metadata": {
    "id": "nNlSjqw5Nw36",
    "outputId": "05abc24c-53c7-4920-d151-3df240829d8a"
   },
   "outputs": [],
   "source": [
    "df[\"comment_text\"].head()"
   ]
  },
  {
   "cell_type": "code",
   "execution_count": null,
   "metadata": {
    "id": "8j6qGNTEQ8CE"
   },
   "outputs": [],
   "source": [
    "df_test[\"comment_text\"] = df_test[\"comment_text\"].apply(lambda row: simplify_comment(row))"
   ]
  },
  {
   "cell_type": "code",
   "execution_count": null,
   "metadata": {
    "id": "A0sg7ICDSXOc",
    "outputId": "537af28f-bcf8-48cc-a350-3e915fb9158a"
   },
   "outputs": [],
   "source": [
    "df_test[\"comment_text\"].head()"
   ]
  },
  {
   "cell_type": "code",
   "execution_count": null,
   "metadata": {
    "id": "63fvVnl4Tl8_"
   },
   "outputs": [],
   "source": [
    "df.loc[df[\"target\"] >= 0.5, \"target\"] = 1\n",
    "df.loc[df[\"target\"] < 0.5, \"target\"] = 0"
   ]
  },
  {
   "cell_type": "code",
   "execution_count": null,
   "metadata": {
    "id": "lJYhTmdCAR__",
    "outputId": "51ecd93a-8104-4ac9-9d19-6c564cf3f454"
   },
   "outputs": [],
   "source": [
    "df.isnull().sum()/len(df)"
   ]
  },
  {
   "cell_type": "code",
   "execution_count": null,
   "metadata": {
    "id": "6V373_gzVI4q",
    "outputId": "5fd1f119-0897-445e-f364-af6841aabfb3"
   },
   "outputs": [],
   "source": [
    "all_words = []\n",
    "maxlen = -9999\n",
    "for sentence in tqdm(df[\"comment_text\"]):\n",
    "    maxlen = maxlen if maxlen > len(sentence.split()) else len(sentence.split())\n",
    "    for word in sentence.split():\n",
    "        all_words.append(word)\n",
    "all_words = set(all_words)\n",
    "num_words = len(all_words)//10"
   ]
  },
  {
   "cell_type": "markdown",
   "metadata": {
    "id": "nMvfawHZJAhF"
   },
   "source": [
    "## Data Visualization"
   ]
  },
  {
   "cell_type": "code",
   "execution_count": null,
   "metadata": {
    "id": "SOjR1a3QBODa",
    "outputId": "bf9994b2-ff5f-43bc-dc22-aa34772789d0"
   },
   "outputs": [],
   "source": [
    "sns.displot(df[\"target\"], bins=np.arange(0, 1, 0.1), stat=\"density\")"
   ]
  },
  {
   "cell_type": "code",
   "execution_count": null,
   "metadata": {
    "id": "CXUfHcK1C4W_",
    "outputId": "293f6509-b2f5-4568-ea9d-55e6bc1f6168"
   },
   "outputs": [],
   "source": [
    "sns.displot(df, x=\"target\", kind=\"kde\")"
   ]
  },
  {
   "cell_type": "code",
   "execution_count": null,
   "metadata": {
    "id": "TDyo0Uo4HQ_0",
    "outputId": "027961d4-879a-441c-ef24-962d820753af"
   },
   "outputs": [],
   "source": [
    "text = str(df.loc[df[\"target\"] > 0.7][\"comment_text\"].sample(len(df)//100))\n",
    "wc = WordCloud(\n",
    "    background_color = 'white', \n",
    "    width = 1920, \n",
    "    height = 1080,\n",
    "    )\n",
    "wc.generate_from_text(text)\n",
    "plt.figure(figsize = (12, 12))\n",
    "plt.title(\"Target > 0.7\")\n",
    "plt.axis(\"off\") \n",
    "plt.tight_layout(pad = 0) \n",
    "plt.imshow(wc) \n",
    "plt.show()"
   ]
  },
  {
   "cell_type": "code",
   "execution_count": null,
   "metadata": {
    "id": "59X4oTJ_OcWS",
    "outputId": "26a011e7-f26c-4830-b8dd-31e4e3d19b6e"
   },
   "outputs": [],
   "source": [
    "text = str(df.loc[df[\"target\"] < 0.7][\"comment_text\"].sample(len(df)//10))\n",
    "wc = WordCloud(\n",
    "    background_color = 'white', \n",
    "    width = 1920, \n",
    "    height = 1080,)\n",
    "wc.generate_from_text(text)\n",
    "plt.figure(figsize = (12, 12))\n",
    "plt.title(\"Target < 0.7\")\n",
    "plt.axis(\"off\") \n",
    "plt.tight_layout(pad = 0) \n",
    "plt.imshow(wc) \n",
    "plt.show()"
   ]
  },
  {
   "cell_type": "markdown",
   "metadata": {
    "id": "9xXYWbazRVYD"
   },
   "source": [
    "## Data Preprocessing"
   ]
  },
  {
   "cell_type": "code",
   "execution_count": null,
   "metadata": {
    "id": "M2Y-1D7WWxGn",
    "outputId": "ef982e7b-4a45-4cf4-9b28-9131d76348f4"
   },
   "outputs": [],
   "source": [
    "df_test[\"comment_text\"].head()"
   ]
  },
  {
   "cell_type": "code",
   "execution_count": null,
   "metadata": {
    "id": "Y4MpNDX7Q2MC"
   },
   "outputs": [],
   "source": [
    "tokenizer = tf.keras.preprocessing.text.Tokenizer(num_words=num_words)\n",
    "tokenizer.fit_on_texts(\n",
    "    df[\"comment_text\"].values.tolist() + df_test[\"comment_text\"].values.tolist())"
   ]
  },
  {
   "cell_type": "code",
   "execution_count": null,
   "metadata": {
    "id": "LT6cjZoiYfv3"
   },
   "outputs": [],
   "source": [
    "X_train = tokenizer.texts_to_sequences(df[\"comment_text\"])\n",
    "X_test = tokenizer.texts_to_sequences(df_test[\"comment_text\"])"
   ]
  },
  {
   "cell_type": "code",
   "execution_count": null,
   "metadata": {
    "id": "ELNV0jS6WYxL"
   },
   "outputs": [],
   "source": [
    "X_train = tf.keras.preprocessing.sequence.pad_sequences(X_train, maxlen=maxlen)\n",
    "X_test = tf.keras.preprocessing.sequence.pad_sequences(X_test, maxlen=maxlen)"
   ]
  },
  {
   "cell_type": "markdown",
   "metadata": {
    "id": "9xXYWbazRVYD"
   },
   "source": [
    "## Model Building"
   ]
  },
  {
   "cell_type": "code",
   "execution_count": null,
   "metadata": {
    "id": "QgGz-6_r_8He",
    "outputId": "f5566835-2930-4674-92c0-cd21c07472ca",
    "tags": []
   },
   "outputs": [],
   "source": [
    "embedding_matrix = np.zeros((num_words, EMBED_SIZE))\n",
    "\n",
    "input_layer = tf.keras.layers.Input(shape=(maxlen,))\n",
    "\n",
    "x = tf.keras.layers.Embedding(num_words, EMBED_SIZE, weights=[embedding_matrix], trainable=False)(input_layer)\n",
    "x = tf.keras.layers.SpatialDropout1D(0.2)(x)\n",
    "x = tf.keras.layers.Bidirectional(tf.keras.layers.GRU(128, return_sequences=True, dropout=0.1, recurrent_dropout=0.1))(x)\n",
    "x = tf.keras.layers.Conv1D(128, kernel_size = 3, padding = \"valid\", kernel_initializer = \"glorot_uniform\", activation=\"relu\")(x)\n",
    "\n",
    "avg_pool = tf.keras.layers.GlobalAveragePooling1D()(x)\n",
    "max_pool = tf.keras.layers.GlobalMaxPooling1D()(x)\n",
    "x = tf.keras.layers.concatenate([avg_pool, max_pool])\n",
    "\n",
    "x = tf.keras.layers.Dense(128, activation=\"relu\")(x)\n",
    "x = tf.keras.layers.Dropout(0.2)(x)\n",
    "\n",
    "x = tf.keras.layers.Dense(64, activation=\"relu\")(x)\n",
    "x = tf.keras.layers.Dropout(0.2)(x)\n",
    "\n",
    "output = tf.keras.layers.Dense(1, activation=\"sigmoid\")(x)\n",
    "model = tf.keras.models.Model(inputs=input_layer, outputs=output)\n",
    "\n",
    "model.compile(loss=\"binary_crossentropy\", optimizer=\"adam\", metrics=[\"accuracy\"])\n",
    "model.summary()\n",
    "\n",
    "es = tf.keras.callbacks.EarlyStopping(monitor=\"val_loss\",\n",
    "                   min_delta=0,\n",
    "                   patience=3,\n",
    "                   verbose=0, mode=\"auto\")\n",
    "\n",
    "best_model = \"./model_{epoch:02d}.h5\"\n",
    "checkpoint = tf.keras.callbacks.ModelCheckpoint(best_model, monitor=\"val_loss\", verbose=0, save_best_only=False, mode='auto')"
   ]
  },
  {
   "cell_type": "code",
   "execution_count": null,
   "metadata": {},
   "outputs": [],
   "source": [
    "model.fit(X_train, df[\"target\"], batch_size=256, epochs=EPOCH, callbacks=[es, checkpoint], validation_split=0.1)"
   ]
  }
 ],
 "metadata": {
  "kernelspec": {
   "display_name": "Python 3 (ipykernel)",
   "language": "python",
   "name": "python3"
  },
  "language_info": {
   "codemirror_mode": {
    "name": "ipython",
    "version": 3
   },
   "file_extension": ".py",
   "mimetype": "text/x-python",
   "name": "python",
   "nbconvert_exporter": "python",
   "pygments_lexer": "ipython3",
   "version": "3.9.7"
  }
 },
 "nbformat": 4,
 "nbformat_minor": 4
}
